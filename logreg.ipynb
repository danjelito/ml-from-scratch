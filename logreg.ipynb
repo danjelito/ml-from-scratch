{
 "cells": [
  {
   "cell_type": "code",
   "execution_count": 64,
   "metadata": {},
   "outputs": [],
   "source": [
    "import numpy as np\n",
    "from sklearn.datasets import make_classification\n",
    "from collections import Counter\n",
    "from typing import List"
   ]
  },
  {
   "cell_type": "code",
   "execution_count": 65,
   "metadata": {},
   "outputs": [
    {
     "data": {
      "text/plain": [
       "Counter({0: 50, 1: 50})"
      ]
     },
     "execution_count": 65,
     "metadata": {},
     "output_type": "execute_result"
    }
   ],
   "source": [
    "xs, ys = make_classification(\n",
    "    n_samples=100,\n",
    "    n_features=2,\n",
    "    n_informative=2,\n",
    "    n_redundant=0,\n",
    "    random_state=0,\n",
    ")\n",
    "Counter(ys)"
   ]
  },
  {
   "cell_type": "code",
   "execution_count": 69,
   "metadata": {},
   "outputs": [
    {
     "data": {
      "text/plain": [
       "0.84"
      ]
     },
     "execution_count": 69,
     "metadata": {},
     "output_type": "execute_result"
    }
   ],
   "source": [
    "Vector = List[float]\n",
    "Matrix = List[Vector]\n",
    "\n",
    "\n",
    "class LogisticRegression:\n",
    "    def __init__(self, lr: float = 0.01, n_epochs: int = 1000) -> None:\n",
    "        \"\"\"Initialize model.\n",
    "\n",
    "        :param float lr: Learning rate, defaults to 0.01\n",
    "        :param int n_epochs: Number of iterations, defaults to 1000\n",
    "        \"\"\"\n",
    "        self.lr = lr\n",
    "        self.n_epochs = n_epochs\n",
    "\n",
    "    def fit(self, xs: Matrix, ys: Vector) -> None:\n",
    "        \"\"\"Fit the model to dataset.\n",
    "\n",
    "        :param List[List[float]] xs: x.\n",
    "        :param List[float] ys: y.\n",
    "        \"\"\"\n",
    "        xs = np.asarray(xs)\n",
    "        ys = np.asarray(ys)\n",
    "        n_samples, n_features = xs.shape\n",
    "        # initialize weights and biases\n",
    "        self.weights = np.zeros(n_features)\n",
    "        self.biases = 0\n",
    "\n",
    "        for _ in range(self.n_epochs):\n",
    "            y_preds = self.predict(xs)\n",
    "            errors = y_preds - ys\n",
    "            dw = (-2 / n_samples) * np.dot(xs.T, errors)\n",
    "            db = (-2 / n_samples) * np.sum(errors)\n",
    "            self.weights = self.weights + self.lr * dw\n",
    "            self.biases = self.biases + self.lr * db\n",
    "\n",
    "    def logistic(self, xs: Matrix) -> Matrix:\n",
    "        \"\"\"Logistic function.\"\"\"\n",
    "        return 1 / (1 + np.exp(xs))\n",
    "\n",
    "    def linear_prediction(self, xs: Matrix):\n",
    "        \"\"\"y = mx + b\"\"\"\n",
    "        return np.dot(xs, self.weights) + self.biases\n",
    "\n",
    "    def predict_proba(self, xs: Matrix) -> Vector:\n",
    "        \"\"\"Logistic proba on linear prediction.\"\"\"\n",
    "        return self.logistic(-1 * self.linear_prediction(xs))\n",
    "\n",
    "    def predict(self, xs: Matrix) -> Vector:\n",
    "        \"\"\"Predict with 0.5 threshold.\n",
    "\n",
    "        :param List[List[float]] xs: x.\n",
    "        :return List[float]: y_pred.\n",
    "        \"\"\"\n",
    "        return [1 if y > 0.5 else 0 for y in self.predict_proba(xs)]\n",
    "\n",
    "\n",
    "lr = LogisticRegression()\n",
    "lr.fit(xs, ys)\n",
    "y_preds = lr.predict(xs)\n",
    "acc = np.sum(ys == y_preds) / len(ys)\n",
    "acc"
   ]
  },
  {
   "cell_type": "markdown",
   "metadata": {},
   "source": [
    "# Explaination"
   ]
  },
  {
   "cell_type": "markdown",
   "metadata": {},
   "source": [
    "## What's with the `linear_prediction`?"
   ]
  },
  {
   "cell_type": "code",
   "execution_count": 75,
   "metadata": {},
   "outputs": [
    {
     "data": {
      "text/plain": [
       "array([0.00519162, 0.00678559, 0.01388876])"
      ]
     },
     "execution_count": 75,
     "metadata": {},
     "output_type": "execute_result"
    }
   ],
   "source": [
    "lr.linear_prediction(np.array([[2, 2], [3, 4], [4, 1]]))"
   ]
  },
  {
   "cell_type": "markdown",
   "metadata": {},
   "source": [
    "## How does the logistic function work?"
   ]
  },
  {
   "cell_type": "code",
   "execution_count": 71,
   "metadata": {},
   "outputs": [
    {
     "data": {
      "text/plain": [
       "array([[0.00669285],\n",
       "       [0.00091105]])"
      ]
     },
     "execution_count": 71,
     "metadata": {},
     "output_type": "execute_result"
    }
   ],
   "source": [
    "xs = np.array([[2], [3]])\n",
    "1 / (1 + np.exp(xs * 2 + 1))"
   ]
  }
 ],
 "metadata": {
  "kernelspec": {
   "display_name": "data-science",
   "language": "python",
   "name": "python3"
  },
  "language_info": {
   "codemirror_mode": {
    "name": "ipython",
    "version": 3
   },
   "file_extension": ".py",
   "mimetype": "text/x-python",
   "name": "python",
   "nbconvert_exporter": "python",
   "pygments_lexer": "ipython3",
   "version": "3.11.8"
  }
 },
 "nbformat": 4,
 "nbformat_minor": 2
}
