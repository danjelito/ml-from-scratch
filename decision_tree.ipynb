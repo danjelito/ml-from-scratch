{
 "cells": [
  {
   "cell_type": "code",
   "execution_count": 25,
   "metadata": {},
   "outputs": [],
   "source": [
    "import numpy as np\n",
    "import math\n",
    "from typing import Any, Optional, List\n",
    "from collections import Counter"
   ]
  },
  {
   "cell_type": "code",
   "execution_count": 23,
   "metadata": {},
   "outputs": [],
   "source": [
    "Vector = List[Any]\n",
    "Matrix = List[Vector]\n",
    "\n",
    "\n",
    "class Node:\n",
    "    def __init__(\n",
    "        self,\n",
    "        feature=None,\n",
    "        threshold=None,\n",
    "        left: Optional[\"Node\"] = None,\n",
    "        right: Optional[\"Node\"] = None,\n",
    "        *,\n",
    "        value: Any = None\n",
    "    ):\n",
    "        self.feature = feature\n",
    "        self.threshold = threshold\n",
    "        self.left = left  # the left node that we are pointing to\n",
    "        self.right = right  # the left node that we are pointing to\n",
    "        self.value = value  # value if this is a leaf node\n",
    "\n",
    "    def is_leaf_node(self) -> bool:\n",
    "        \"\"\"Returns true if this is a leaf node.\"\"\"\n",
    "        return self.value is not None\n",
    "\n",
    "\n",
    "class DecisionTree:\n",
    "    def __init__(\n",
    "        self,\n",
    "        min_samples_split: int = 2,\n",
    "        max_depth: int = 100,\n",
    "        n_features: int | None = None,\n",
    "    ):\n",
    "        self.min_samples_split: int = min_samples_split\n",
    "        self.max_depth: int = max_depth\n",
    "        self.n_features_to_use: int = n_features\n",
    "        self.root = None\n",
    "\n",
    "    def fit(self, xs: Matrix, ys: Vector):\n",
    "        # check if n_features is less than actual feature\n",
    "        # if more than actual feature, use actual feature\n",
    "        n_features = xs.shape[1]\n",
    "        if not self.n_features_to_use:\n",
    "            self.n_features_to_use = n_features\n",
    "        else:\n",
    "            self.n_features_to_use = min(self.n_features_to_use, n_features)\n",
    "\n",
    "        self.root = self._grow_tree(xs, ys)\n",
    "\n",
    "    def _grow_tree(self, xs: Matrix, ys: Vector, depth: int = 0):\n",
    "        \"\"\"Recursive function.\"\"\"\n",
    "        n_samples, n_features = xs.shape\n",
    "        n_labels = len(np.unique(ys))\n",
    "\n",
    "        # stopping criteria\n",
    "        # return leaf node\n",
    "        if (\n",
    "            depth >= self.max_depth  # if max depth is reached\n",
    "            or n_labels == 1  # if the remaining class is only 1\n",
    "            or n_samples < self.min_samples_split  # if reach min number of samples\n",
    "        ):\n",
    "            return Node(value=self._most_common_label(ys))\n",
    "\n",
    "        # find the best split\n",
    "        feature_idxs = np.random.choice(\n",
    "            n_features, self.n_features_to_use, replace=False\n",
    "        )\n",
    "        best_feature, best_threshold = self._best_split(xs, ys, feature_idxs)\n",
    "        # create child nodes\n",
    "        left_idxs, right_idxs = self._split(xs[:, best_feature], best_threshold)\n",
    "        left = self._grow_tree(xs[left_idxs, :], ys[left_idxs], depth + 1)\n",
    "        right = self._grow_tree(xs[right_idxs, :], ys[right_idxs], depth + 1)\n",
    "        return Node(best_feature, best_threshold, left, right)\n",
    "\n",
    "    def _best_split(self, xs: Matrix, ys: Vector, feature_idxs):\n",
    "        best_gain = -1  # init\n",
    "        split_idx, split_threshold = None, None  # init\n",
    "\n",
    "        for i in feature_idxs:\n",
    "            xs_col = xs[:, i]  # get the entire feature (col in a DF)\n",
    "            thresholds = np.unique(xs_col)\n",
    "            for threshold in thresholds:\n",
    "                # calculate the information gain\n",
    "                gain = self._information_gain(xs_col, ys, threshold)\n",
    "                if gain > best_gain:\n",
    "                    best_gain = gain\n",
    "                    split_idx = i\n",
    "                    split_threshold = threshold\n",
    "        return split_idx, split_threshold\n",
    "\n",
    "    def _information_gain(self, xs_col, ys, threshold):\n",
    "        # get parent entropy\n",
    "        parent_ent = self._entropy(ys)\n",
    "        # create children\n",
    "        left_idx, right_idx = self._split(xs_col, threshold)\n",
    "        # if the the class is still on one of the split, then the IG = 0\n",
    "        # i.e. the split has no effect\n",
    "        if len(left_idx) == 0 or len(right_idx) == 0:\n",
    "            return 0\n",
    "        # calculate weighted entropy of children\n",
    "        n = len(ys)\n",
    "        n_left, n_right = len(left_idx), len(right_idx)\n",
    "        ent_left = self._entropy(ys[left_idx])\n",
    "        ent_right = self._entropy(ys[right_idx])\n",
    "        # calculate child entropy\n",
    "        children_ent = (ent_left * n_left / n) + (ent_right * n_right / n)\n",
    "        # calculate the information gain and return\n",
    "        return parent_ent - children_ent\n",
    "\n",
    "    def _split(self, xs_col, threshold):\n",
    "        left_idx = np.argwhere(xs_col <= threshold).flatten()\n",
    "        right_idx = np.argwhere(xs_col > threshold).flatten()\n",
    "        return left_idx, right_idx\n",
    "\n",
    "    def _entropy(self, ys):\n",
    "        n = len(ys)\n",
    "        counter = Counter(ys)\n",
    "        return -1 * sum(\n",
    "            (count / n) * (math.log2(count / n)) for count in counter.values()\n",
    "        )\n",
    "\n",
    "    def _most_common_label(self, labels):\n",
    "        return Counter(labels).most_common(1)[0][0]\n",
    "\n",
    "    def predict(self, xs):\n",
    "        return np.array([self._traverse_tree(x, self.root) for x in xs])\n",
    "\n",
    "    def _traverse_tree(self, x, node: Node):\n",
    "        if node.is_leaf_node():\n",
    "            return node.value\n",
    "        if x[node.feature] <= node.threshold:\n",
    "            return self._traverse_tree(x, node.left)\n",
    "        return self._traverse_tree(x, node.right)"
   ]
  },
  {
   "cell_type": "code",
   "execution_count": 24,
   "metadata": {},
   "outputs": [
    {
     "data": {
      "text/plain": [
       "0.9344262295081968"
      ]
     },
     "execution_count": 24,
     "metadata": {},
     "output_type": "execute_result"
    }
   ],
   "source": [
    "from sklearn.datasets import load_breast_cancer\n",
    "from sklearn.model_selection import train_test_split\n",
    "\n",
    "data = load_breast_cancer()\n",
    "xs, ys = data.data, data.target\n",
    "X_train, X_test, y_train, y_test = train_test_split(\n",
    "    xs, ys, test_size=0.32, random_state=42\n",
    ")\n",
    "\n",
    "dt = DecisionTree(max_depth=10)\n",
    "dt.fit(X_train, y_train)\n",
    "y_pred = dt.predict(X_test)\n",
    "acc = sum(y_pred == y_test) / len(y_test)\n",
    "acc"
   ]
  },
  {
   "cell_type": "markdown",
   "metadata": {},
   "source": [
    "# Explaination"
   ]
  },
  {
   "cell_type": "markdown",
   "metadata": {},
   "source": [
    "## How does recursive funtion works"
   ]
  },
  {
   "cell_type": "code",
   "execution_count": 34,
   "metadata": {},
   "outputs": [
    {
     "data": {
      "text/plain": [
       "3628800"
      ]
     },
     "execution_count": 34,
     "metadata": {},
     "output_type": "execute_result"
    }
   ],
   "source": [
    "def factorial(n):\n",
    "    # base case\n",
    "    if n == 0 or n == 1:\n",
    "        return 1\n",
    "    # recursive case\n",
    "    else:\n",
    "        return n * factorial(n - 1)\n",
    "\n",
    "\n",
    "factorial(10)"
   ]
  }
 ],
 "metadata": {
  "kernelspec": {
   "display_name": "data-science",
   "language": "python",
   "name": "python3"
  },
  "language_info": {
   "codemirror_mode": {
    "name": "ipython",
    "version": 3
   },
   "file_extension": ".py",
   "mimetype": "text/x-python",
   "name": "python",
   "nbconvert_exporter": "python",
   "pygments_lexer": "ipython3",
   "version": "3.11.8"
  }
 },
 "nbformat": 4,
 "nbformat_minor": 2
}
