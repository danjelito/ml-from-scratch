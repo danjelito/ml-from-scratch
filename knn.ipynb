{
 "cells": [
  {
   "cell_type": "code",
   "execution_count": 87,
   "metadata": {},
   "outputs": [],
   "source": [
    "import numpy as np\n",
    "from sklearn.datasets import load_iris\n",
    "from sklearn.model_selection import train_test_split\n",
    "from collections import Counter"
   ]
  },
  {
   "cell_type": "code",
   "execution_count": 88,
   "metadata": {},
   "outputs": [],
   "source": [
    "iris = load_iris()\n",
    "xs = iris.data\n",
    "ys = iris.target\n",
    "\n",
    "X_train, X_test, y_train, y_test = train_test_split(xs, ys, train_size=0.25, random_state=8, shuffle=True)"
   ]
  },
  {
   "cell_type": "code",
   "execution_count": 89,
   "metadata": {},
   "outputs": [],
   "source": [
    "class KNN:\n",
    "    def __init__(self, k):\n",
    "        self.k = k\n",
    "\n",
    "    def fit(self, x_trains, y_trains):\n",
    "        self.x_trains = x_trains\n",
    "        self.y_trains = y_trains\n",
    "\n",
    "    def predict(self, xs):\n",
    "        return [self._predict_single_sample(x) for x in xs]\n",
    "\n",
    "    def _predict_single_sample(self, x):\n",
    "        distances = [self._calculate_distance(x_train, x) for x_train in self.x_trains]\n",
    "        sorted_idx = np.argsort(distances)\n",
    "        k_nearest_labels = self.y_trains[sorted_idx][: self.k]\n",
    "        return self._majority_vote(k_nearest_labels)\n",
    "\n",
    "    def _calculate_distance(self, a, b):\n",
    "        return np.sqrt(np.sum((a - b) ** 2))\n",
    "\n",
    "    def _majority_vote(self, labels):\n",
    "        counts = Counter(labels)\n",
    "        winner, winner_count = Counter(labels).most_common(1)[0]\n",
    "        n_winner = sum(1 for count in counts.values() if count == winner_count)\n",
    "        if n_winner > 1:\n",
    "            return self._majority_vote(labels[:-1])\n",
    "        elif n_winner == 1:\n",
    "            return winner"
   ]
  },
  {
   "cell_type": "code",
   "execution_count": 90,
   "metadata": {},
   "outputs": [
    {
     "data": {
      "text/plain": [
       "0.9026548672566371"
      ]
     },
     "execution_count": 90,
     "metadata": {},
     "output_type": "execute_result"
    }
   ],
   "source": [
    "knn = KNN(5)\n",
    "knn.fit(X_train, y_train)\n",
    "y_pred = knn.predict(X_test)\n",
    "\n",
    "acc = np.sum(y_test == y_pred) / len(y_pred)\n",
    "acc"
   ]
  },
  {
   "cell_type": "markdown",
   "metadata": {},
   "source": [
    "# Explaination"
   ]
  },
  {
   "cell_type": "markdown",
   "metadata": {},
   "source": [
    "## What is `argsort` doing?"
   ]
  },
  {
   "cell_type": "markdown",
   "metadata": {},
   "source": [
    "`argsort` is returning indices that will sort an array."
   ]
  },
  {
   "cell_type": "markdown",
   "metadata": {},
   "source": [
    "## How to find distances between two points?"
   ]
  },
  {
   "cell_type": "markdown",
   "metadata": {},
   "source": [
    "$$d(\\mathbf{A}, \\mathbf{B}) = \\sqrt{\\sum_{i=1}^{n} (A_i - B_i)^2}$$"
   ]
  },
  {
   "cell_type": "code",
   "execution_count": 91,
   "metadata": {},
   "outputs": [],
   "source": [
    "a = np.array([1, 0, 5])\n",
    "b = np.array([0, 2, 4])\n",
    "\n",
    "assert np.sqrt(np.sum((a - b) ** 2)) == np.sqrt(6)"
   ]
  },
  {
   "cell_type": "markdown",
   "metadata": {},
   "source": [
    "## How does `_majority_vote` handles tie?"
   ]
  },
  {
   "cell_type": "code",
   "execution_count": 92,
   "metadata": {},
   "outputs": [
    {
     "data": {
      "text/plain": [
       "'b'"
      ]
     },
     "execution_count": 92,
     "metadata": {},
     "output_type": "execute_result"
    }
   ],
   "source": [
    "labels = np.array([\"a\", \"b\", \"b\", \"d\", \"a\"])\n",
    "knn = KNN(1)\n",
    "knn._majority_vote(labels)"
   ]
  }
 ],
 "metadata": {
  "kernelspec": {
   "display_name": "data-science",
   "language": "python",
   "name": "python3"
  },
  "language_info": {
   "codemirror_mode": {
    "name": "ipython",
    "version": 3
   },
   "file_extension": ".py",
   "mimetype": "text/x-python",
   "name": "python",
   "nbconvert_exporter": "python",
   "pygments_lexer": "ipython3",
   "version": "3.11.8"
  }
 },
 "nbformat": 4,
 "nbformat_minor": 2
}
