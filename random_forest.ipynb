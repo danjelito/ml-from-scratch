{
 "cells": [
  {
   "cell_type": "code",
   "execution_count": 2,
   "metadata": {},
   "outputs": [],
   "source": [
    "import numpy as np\n",
    "from typing import Any, List, Tuple\n",
    "from collections import Counter\n",
    "from DecisionTree import DecisionTree\n",
    "\n",
    "Vector = List[Any]\n",
    "Matrix = List[Vector]"
   ]
  },
  {
   "cell_type": "code",
   "execution_count": 5,
   "metadata": {},
   "outputs": [],
   "source": [
    "class RandomForest:\n",
    "\n",
    "    def __init__(\n",
    "        self,\n",
    "        min_samples_split: int = 2,\n",
    "        max_depth: int = 10,\n",
    "        n_features: int | None = None,\n",
    "        n_trees: int = 50,\n",
    "        subset_size: float = 0.25,\n",
    "    ):\n",
    "        self.min_samples_split: int = min_samples_split\n",
    "        self.max_depth: int = max_depth\n",
    "        self.n_features_to_use: int = n_features\n",
    "        self.n_trees: int = n_trees\n",
    "        self.subset_size: float = subset_size\n",
    "        self.trees: List[DecisionTree] = []\n",
    "\n",
    "    def fit(self, xs: Matrix, ys: Vector) -> None:\n",
    "        \"\"\"Fit training data.\"\"\"\n",
    "\n",
    "        # train each decision tree on subset data\n",
    "        for _ in range(self.n_trees):\n",
    "            tree = DecisionTree(\n",
    "                max_depth=self.max_depth, min_samples_split=self.min_samples_split\n",
    "            )\n",
    "            xs_subset, ys_subset = self._bootstrap_samples(xs, ys, self.subset_size)\n",
    "            tree.fit(xs_subset, ys_subset)\n",
    "            self.trees.append(tree)\n",
    "\n",
    "    def _bootstrap_samples(\n",
    "        self, xs: Matrix, ys: Vector, subset_size: float\n",
    "    ) -> Tuple[Matrix, Vector]:\n",
    "        \"\"\"Return a random subset of data with proportion = subset_size\n",
    "        with replacement.\n",
    "        \"\"\"\n",
    "        n_samples = len(ys)\n",
    "        subset_idx = np.random.choice(\n",
    "            n_samples, int(subset_size * n_samples), replace=True\n",
    "        )\n",
    "        return xs[subset_idx], ys[subset_idx]\n",
    "\n",
    "    def _majority_vote(self, labels: Vector) -> Any:\n",
    "        \"\"\"Returns the most common label by majority vote..\"\"\"\n",
    "        return Counter(labels).most_common(1)[0][0]\n",
    "\n",
    "    def predict(self, xs: Matrix) -> Vector:\n",
    "        # list of preds, grouped by tree\n",
    "        preds = np.array([tree.predict(xs) for tree in self.trees])\n",
    "        # list of preds, grouped by index\n",
    "        preds = np.swapaxes(preds, 0, 1)\n",
    "        preds = np.array([self._majority_vote(pred) for pred in preds])\n",
    "        return preds"
   ]
  },
  {
   "cell_type": "code",
   "execution_count": 6,
   "metadata": {},
   "outputs": [
    {
     "data": {
      "text/plain": [
       "0.9398907103825137"
      ]
     },
     "execution_count": 6,
     "metadata": {},
     "output_type": "execute_result"
    }
   ],
   "source": [
    "from sklearn.datasets import load_breast_cancer\n",
    "from sklearn.model_selection import train_test_split\n",
    "\n",
    "data = load_breast_cancer()\n",
    "xs, ys = data.data, data.target\n",
    "X_train, X_test, y_train, y_test = train_test_split(\n",
    "    xs, ys, test_size=0.32, random_state=42\n",
    ")\n",
    "\n",
    "rf = RandomForest()\n",
    "rf.fit(X_train, y_train)\n",
    "y_pred = rf.predict(X_test)\n",
    "acc = sum(y_pred == y_test) / len(y_test)\n",
    "acc"
   ]
  }
 ],
 "metadata": {
  "kernelspec": {
   "display_name": "data-science",
   "language": "python",
   "name": "python3"
  },
  "language_info": {
   "codemirror_mode": {
    "name": "ipython",
    "version": 3
   },
   "file_extension": ".py",
   "mimetype": "text/x-python",
   "name": "python",
   "nbconvert_exporter": "python",
   "pygments_lexer": "ipython3",
   "version": "3.11.8"
  }
 },
 "nbformat": 4,
 "nbformat_minor": 2
}
